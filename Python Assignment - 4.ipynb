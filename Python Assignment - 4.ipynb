{
 "cells": [
  {
   "cell_type": "markdown",
   "metadata": {},
   "source": [
    "# Python Assignment - 4"
   ]
  },
  {
   "cell_type": "markdown",
   "metadata": {},
   "source": [
    "###### 1.1 Write a Python Program(with class concepts) to find the area of the triangle using the below formula.\n",
    "area = (s*(s-a)*(s-b)*(s-c)) ** 0.5 \n",
    "\n",
    "Function to take the length of the sides of triangle from user should be defined in the parent class and function to calculate the area should be defined in subclass."
   ]
  },
  {
   "cell_type": "code",
   "execution_count": 37,
   "metadata": {},
   "outputs": [],
   "source": [
    "class sides: #base class\n",
    "    def __init__(self,a,b,c):\n",
    "        self.a=a\n",
    "        self.b=b\n",
    "        self.c=c\n",
    "    def side(self): #to know sides of triangle\n",
    "        print(\"side A =\",self.a)\n",
    "        print(\"Side B =\",self.b)\n",
    "        print(\"Side C =\",self.c)\n",
    "class area(sides): #derived class \n",
    "    def triangle_area(self):\n",
    "        s= (self.a+self.b+self.c)/2  #Semi-Perinmeter\n",
    "        area = (s*(s-self.a)*(s-self.b)*(s-self.c)) ** 0.5 \n",
    "        print(\"Area of the triangle =\",area)"
   ]
  },
  {
   "cell_type": "code",
   "execution_count": 38,
   "metadata": {},
   "outputs": [
    {
     "name": "stdout",
     "output_type": "stream",
     "text": [
      "Area of the triangle = 198.4313483298443\n",
      "side A = 20\n",
      "Side B = 30\n",
      "Side C = 20\n"
     ]
    }
   ],
   "source": [
    "k=area(20,30,20)\n",
    "k.triangle_area()\n",
    "k.side()"
   ]
  },
  {
   "cell_type": "markdown",
   "metadata": {},
   "source": [
    "###### 1.2 Write a function filter_long_words() that takes a list of words and an integer n and returns the list of words that are longer than n."
   ]
  },
  {
   "cell_type": "code",
   "execution_count": 107,
   "metadata": {},
   "outputs": [],
   "source": [
    "class long_words:\n",
    "    def __init__(self,words):\n",
    "        self.word_list=words\n",
    "    def filter_long_words(self,n):\n",
    "        a=[]\n",
    "        for i in self.word_list:\n",
    "            if len(i)>n:\n",
    "                a.append(i)\n",
    "        print(a)"
   ]
  },
  {
   "cell_type": "code",
   "execution_count": 111,
   "metadata": {},
   "outputs": [
    {
     "name": "stdout",
     "output_type": "stream",
     "text": [
      "Enter Minimum lenght of word 9\n",
      "['deeevsianssssss', 'adkkjbehyfff', 'dsvdgvdvdgsbmnb']\n"
     ]
    }
   ],
   "source": [
    "k=long_words([\"ahdgsveb\",'deeevsianssssss','adkkjbehyfff','aregvwb','dsvdgvdvdgsbmnb'])\n",
    "n=int(input(\"Enter Minimum lenght of word \"))\n",
    "k.filter_long_words(n)"
   ]
  },
  {
   "cell_type": "markdown",
   "metadata": {},
   "source": [
    "###### 2.1 Write a Python program using function concept that maps list of words into a list of integers\n",
    "representing the lengths of the corresponding words.\n",
    "\n",
    "Hint: If a list [ ab,cde,erty] is passed on to the python function output should come as [2,3,4]\n",
    "\n",
    "Here 2,3 and 4 are the lengths of the words in the list."
   ]
  },
  {
   "cell_type": "code",
   "execution_count": 91,
   "metadata": {},
   "outputs": [],
   "source": [
    "def length(a):\n",
    "    l=[]\n",
    "    for i in a:\n",
    "        l.append(len(i))\n",
    "    print(\"Length of the words in the list:\",l)"
   ]
  },
  {
   "cell_type": "code",
   "execution_count": 92,
   "metadata": {},
   "outputs": [
    {
     "name": "stdout",
     "output_type": "stream",
     "text": [
      "Enter no of words in the list6\n",
      "enter the words\n",
      "qwerty\n",
      "asjiwnk\n",
      "abvxcrek\n",
      "lbvdewqm\n",
      "ewwe\n",
      "ae\n",
      "Length of the words in the list: [6, 7, 8, 8, 4, 2]\n"
     ]
    }
   ],
   "source": [
    "n=int(input(\"Enter no of words in the list\"))\n",
    "a=[]\n",
    "print(\"enter the words\")\n",
    "for i in range(n):\n",
    "    a.append(input())\n",
    "length(a)"
   ]
  },
  {
   "cell_type": "markdown",
   "metadata": {},
   "source": [
    "###### 2.2 Write a Python function which takes a character (i.e. a string of length 1) and returns True if it is a vowel, False otherwise."
   ]
  },
  {
   "cell_type": "code",
   "execution_count": 96,
   "metadata": {},
   "outputs": [],
   "source": [
    "def vowel(a):\n",
    "    if a.lower() in ['a','e','i','o','u'] :\n",
    "        return True\n",
    "    else:\n",
    "        return False"
   ]
  },
  {
   "cell_type": "code",
   "execution_count": 97,
   "metadata": {},
   "outputs": [
    {
     "data": {
      "text/plain": [
       "True"
      ]
     },
     "execution_count": 97,
     "metadata": {},
     "output_type": "execute_result"
    }
   ],
   "source": [
    "a='a'\n",
    "vowel(a)"
   ]
  },
  {
   "cell_type": "code",
   "execution_count": 98,
   "metadata": {},
   "outputs": [
    {
     "data": {
      "text/plain": [
       "False"
      ]
     },
     "execution_count": 98,
     "metadata": {},
     "output_type": "execute_result"
    }
   ],
   "source": [
    "a='s'\n",
    "vowel(a)"
   ]
  },
  {
   "cell_type": "code",
   "execution_count": 100,
   "metadata": {},
   "outputs": [
    {
     "data": {
      "text/plain": [
       "True"
      ]
     },
     "execution_count": 100,
     "metadata": {},
     "output_type": "execute_result"
    }
   ],
   "source": [
    "a=\"I\"\n",
    "vowel(a)"
   ]
  },
  {
   "cell_type": "code",
   "execution_count": null,
   "metadata": {},
   "outputs": [],
   "source": []
  }
 ],
 "metadata": {
  "kernelspec": {
   "display_name": "Python 3",
   "language": "python",
   "name": "python3"
  },
  "language_info": {
   "codemirror_mode": {
    "name": "ipython",
    "version": 3
   },
   "file_extension": ".py",
   "mimetype": "text/x-python",
   "name": "python",
   "nbconvert_exporter": "python",
   "pygments_lexer": "ipython3",
   "version": "3.7.1"
  }
 },
 "nbformat": 4,
 "nbformat_minor": 2
}
